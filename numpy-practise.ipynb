{
 "cells": [
  {
   "cell_type": "code",
   "execution_count": 1,
   "id": "d1343933",
   "metadata": {},
   "outputs": [],
   "source": [
    "import numpy as np"
   ]
  },
  {
   "cell_type": "code",
   "execution_count": 2,
   "id": "562bde6f",
   "metadata": {},
   "outputs": [
    {
     "data": {
      "text/plain": [
       "array([[1., 0., 0., 0., 0.],\n",
       "       [0., 1., 0., 0., 0.],\n",
       "       [0., 0., 1., 0., 0.],\n",
       "       [0., 0., 0., 1., 0.],\n",
       "       [0., 0., 0., 0., 1.]])"
      ]
     },
     "execution_count": 2,
     "metadata": {},
     "output_type": "execute_result"
    }
   ],
   "source": [
    "np.eye(5)"
   ]
  },
  {
   "cell_type": "code",
   "execution_count": 5,
   "id": "b7144c38",
   "metadata": {},
   "outputs": [
    {
     "data": {
      "text/plain": [
       "array([0., 0., 0., 0., 0.])"
      ]
     },
     "execution_count": 5,
     "metadata": {},
     "output_type": "execute_result"
    }
   ],
   "source": [
    "np.ones(5)\n",
    "np.zeros(5)"
   ]
  },
  {
   "cell_type": "code",
   "execution_count": 16,
   "id": "b4b096b9",
   "metadata": {},
   "outputs": [
    {
     "data": {
      "text/plain": [
       "array([2, 2, 4, 4, 3, 2, 0, 4, 3, 1, 2, 2, 2, 2, 4])"
      ]
     },
     "execution_count": 16,
     "metadata": {},
     "output_type": "execute_result"
    }
   ],
   "source": [
    "np.random.rand(2,3)\n",
    "np.random.randn(2,3)\n",
    "np.random.randint(0,5, (2,3))\n",
    "np.random.randint(0,5, 15)"
   ]
  },
  {
   "cell_type": "code",
   "execution_count": 17,
   "id": "391974e7",
   "metadata": {},
   "outputs": [
    {
     "data": {
      "text/plain": [
       "array([0.37454012, 0.95071431, 0.73199394, 0.59865848, 0.15601864])"
      ]
     },
     "execution_count": 17,
     "metadata": {},
     "output_type": "execute_result"
    }
   ],
   "source": [
    "np.random.seed(42)\n",
    "np.random.rand(5)\n",
    "# Excact Same Random Numbers"
   ]
  },
  {
   "cell_type": "code",
   "execution_count": 18,
   "id": "6c095068",
   "metadata": {},
   "outputs": [
    {
     "data": {
      "text/plain": [
       "array([[ 0,  1,  2,  3,  4],\n",
       "       [ 5,  6,  7,  8,  9],\n",
       "       [10, 11, 12, 13, 14],\n",
       "       [15, 16, 17, 18, 19]])"
      ]
     },
     "execution_count": 18,
     "metadata": {},
     "output_type": "execute_result"
    }
   ],
   "source": [
    "arr = np.arange(0,20)\n",
    "\n",
    "arr.reshape(4,5)"
   ]
  },
  {
   "cell_type": "code",
   "execution_count": 24,
   "id": "4ed46d0b",
   "metadata": {},
   "outputs": [
    {
     "name": "stdout",
     "output_type": "stream",
     "text": [
      "[2 4 2 6 4]\n"
     ]
    },
    {
     "data": {
      "text/plain": [
       "0"
      ]
     },
     "execution_count": 24,
     "metadata": {},
     "output_type": "execute_result"
    }
   ],
   "source": [
    "arr = np.random.randint(0,10,5)\n",
    "print(arr)\n",
    "arr.min()\n",
    "arr.max()\n",
    "arr.argmax()\n",
    "arr.argmin()"
   ]
  },
  {
   "cell_type": "code",
   "execution_count": 30,
   "id": "8e698a54",
   "metadata": {},
   "outputs": [
    {
     "name": "stdout",
     "output_type": "stream",
     "text": [
      "[6 7 8 9]\n"
     ]
    }
   ],
   "source": [
    "arr = np.arange(0,10)\n",
    "# arr = arr[:6]\n",
    "arr = arr[6:]\n",
    "print(arr)"
   ]
  },
  {
   "cell_type": "code",
   "execution_count": 36,
   "id": "e5d1fe3e",
   "metadata": {},
   "outputs": [
    {
     "name": "stdout",
     "output_type": "stream",
     "text": [
      "[0 1 2 3 4]\n"
     ]
    }
   ],
   "source": [
    "arrA = np.arange(0,5)\n",
    "arrB = arrA[0:3].copy()\n",
    "arrB[:] = 10\n",
    "print(arrA)"
   ]
  },
  {
   "cell_type": "code",
   "execution_count": 44,
   "id": "62eb330d",
   "metadata": {},
   "outputs": [
    {
     "name": "stdout",
     "output_type": "stream",
     "text": [
      "[[3]\n",
      " [6]]\n"
     ]
    }
   ],
   "source": [
    "arrC = np.array([[1,2,3], [4,5,6], [7,8,9]])\n",
    "print(arrC[:2, 2:])"
   ]
  },
  {
   "cell_type": "code",
   "execution_count": 49,
   "id": "5d157f28",
   "metadata": {},
   "outputs": [
    {
     "data": {
      "text/plain": [
       "array([0, 1])"
      ]
     },
     "execution_count": 49,
     "metadata": {},
     "output_type": "execute_result"
    }
   ],
   "source": [
    "arrD = np.arange(0,5)\n",
    "arrD[arrD < 2]"
   ]
  },
  {
   "cell_type": "code",
   "execution_count": 52,
   "id": "fe27423b",
   "metadata": {},
   "outputs": [
    {
     "name": "stdout",
     "output_type": "stream",
     "text": [
      "[[ 0  1  2  3  4]\n",
      " [ 5  6  7  8  9]\n",
      " [10 11 12 13 14]\n",
      " [15 16 17 18 19]\n",
      " [20 21 22 23 24]]\n"
     ]
    },
    {
     "data": {
      "text/plain": [
       "array([ 10,  35,  60,  85, 110])"
      ]
     },
     "execution_count": 52,
     "metadata": {},
     "output_type": "execute_result"
    }
   ],
   "source": [
    "arrE = np.arange(0,25).reshape(5,5)\n",
    "print(arrE)\n",
    "arrE.sum(axis=1)"
   ]
  },
  {
   "cell_type": "code",
   "execution_count": null,
   "id": "30e3b1bf",
   "metadata": {},
   "outputs": [],
   "source": []
  }
 ],
 "metadata": {
  "kernelspec": {
   "display_name": "Python 3.8.9 64-bit",
   "language": "python",
   "name": "python3"
  },
  "language_info": {
   "codemirror_mode": {
    "name": "ipython",
    "version": 3
   },
   "file_extension": ".py",
   "mimetype": "text/x-python",
   "name": "python",
   "nbconvert_exporter": "python",
   "pygments_lexer": "ipython3",
   "version": "3.8.9"
  },
  "vscode": {
   "interpreter": {
    "hash": "31f2aee4e71d21fbe5cf8b01ff0e069b9275f58929596ceb00d14d90e3e16cd6"
   }
  }
 },
 "nbformat": 4,
 "nbformat_minor": 5
}
